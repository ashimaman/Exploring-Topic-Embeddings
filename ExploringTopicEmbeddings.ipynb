{
 "cells": [
  {
   "cell_type": "code",
   "execution_count": 2,
   "id": "219e8fdb",
   "metadata": {},
   "outputs": [],
   "source": [
    "import torch\n",
    "import torch.nn as nn\n",
    "import torch.optim as optim\n",
    "import numpy as np\n",
    "from sklearn.datasets import fetch_20newsgroups\n",
    "from sklearn.feature_extraction.text import CountVectorizer\n",
    "from sklearn.model_selection import train_test_split\n",
    "import matplotlib.pyplot as plt"
   ]
  },
  {
   "cell_type": "code",
   "execution_count": 3,
   "id": "d5fc74cd",
   "metadata": {},
   "outputs": [],
   "source": [
    "#load the dataset and vectorize it. Followed by splitting the data into training and validation set.\n",
    "newsgroups_train = fetch_20newsgroups(subset='train')\n",
    "vectorizer = CountVectorizer(stop_words='english', max_features=5000)\n",
    "X = vectorizer.fit_transform(newsgroups_train.data).todense()\n",
    "y = newsgroups_train.target\n",
    "X_train, X_val, y_train, y_val = train_test_split(X, y, test_size=0.2)"
   ]
  },
  {
   "cell_type": "code",
   "execution_count": 4,
   "id": "61f566b6",
   "metadata": {},
   "outputs": [],
   "source": [
    "#defined the model architecture\n",
    "class NNModel(nn.Module):\n",
    "    def __init__(self, input_size, hidden_size, output_size):\n",
    "        super(NNModel, self).__init__()\n",
    "        self.fc1 = nn.Linear(input_size, hidden_size)\n",
    "        self.relu = nn.ReLU()\n",
    "        self.fc2 = nn.Linear(hidden_size, output_size)\n",
    "        self.softmax = nn.Softmax(dim=1)\n",
    "\n",
    "    def forward(self, x):\n",
    "        x = self.fc1(x)\n",
    "        x = self.relu(x)\n",
    "        x = self.fc2(x)\n",
    "        x = self.softmax(x)\n",
    "        return x"
   ]
  },
  {
   "cell_type": "code",
   "execution_count": 5,
   "id": "80fbb9a0",
   "metadata": {},
   "outputs": [
    {
     "name": "stdout",
     "output_type": "stream",
     "text": [
      "Epoch [10/50], Train Loss: 2.8752, Val Loss: 2.8833, Train Acc: 0.6485, Val Acc: 0.6138\n",
      "Epoch [20/50], Train Loss: 2.6722, Val Loss: 2.6948, Train Acc: 0.7470, Val Acc: 0.7123\n",
      "Epoch [30/50], Train Loss: 2.4970, Val Loss: 2.5333, Train Acc: 0.8116, Val Acc: 0.7693\n",
      "Epoch [40/50], Train Loss: 2.3717, Val Loss: 2.4283, Train Acc: 0.8663, Val Acc: 0.8038\n",
      "Epoch [50/50], Train Loss: 2.2904, Val Loss: 2.3656, Train Acc: 0.8923, Val Acc: 0.8246\n"
     ]
    }
   ],
   "source": [
    "#training and validation process\n",
    "input_size = X_train.shape[1]\n",
    "hidden_size = 128\n",
    "output_size = len(np.unique(y_train))\n",
    "learning_rate = 0.001\n",
    "num_epochs = 50\n",
    "\n",
    "model = NNModel(input_size, hidden_size, output_size)\n",
    "criterion = nn.CrossEntropyLoss()\n",
    "optimizer = optim.Adam(model.parameters(), lr=learning_rate)\n",
    "\n",
    "train_losses = []\n",
    "val_losses = []\n",
    "train_accs = []\n",
    "val_accs = []\n",
    "\n",
    "for epoch in range(num_epochs):\n",
    "    train_loss = 0\n",
    "    train_acc = 0\n",
    "    val_loss = 0\n",
    "    val_acc = 0\n",
    "    \n",
    "    # Training\n",
    "    model.train()\n",
    "    optimizer.zero_grad()\n",
    "    inputs = torch.Tensor(X_train).float()\n",
    "    labels = torch.Tensor(y_train).long()\n",
    "    outputs = model(inputs)\n",
    "    loss = criterion(outputs, labels)\n",
    "    loss.backward()\n",
    "    optimizer.step()\n",
    "    train_loss += loss.item()\n",
    "    _, predicted = torch.max(outputs, 1)\n",
    "    train_acc += (predicted == labels).sum().item() / len(labels)\n",
    "    train_losses.append(train_loss)\n",
    "    train_accs.append(train_acc)\n",
    "\n",
    "    # Validation\n",
    "    model.eval()\n",
    "    inputs = torch.Tensor(X_val).float()\n",
    "    labels = torch.Tensor(y_val).long()\n",
    "    outputs = model(inputs)\n",
    "    loss = criterion(outputs, labels)\n",
    "    val_loss += loss.item()\n",
    "    _, predicted = torch.max(outputs, 1)\n",
    "    val_acc += (predicted == labels).sum().item() / len(labels)\n",
    "    val_losses.append(val_loss)\n",
    "    val_accs.append(val_acc)\n",
    "\n",
    "    # Print progress\n",
    "    if (epoch+1) % 10 == 0:\n",
    "        print('Epoch [{}/{}], Train Loss: {:.4f}, Val Loss: {:.4f}, Train Acc: {:.4f}, Val Acc: {:.4f}'\n",
    "              .format(epoch+1, num_epochs, train_loss, val_loss, train_acc, val_acc))\n",
    "\n"
   ]
  },
  {
   "cell_type": "code",
   "execution_count": 6,
   "id": "1b01afbf",
   "metadata": {},
   "outputs": [
    {
     "data": {
      "image/png": "[encoded data removed]",
      "text/plain": [
       "<Figure size 640x480 with 1 Axes>"
      ]
     },
     "metadata": {},
     "output_type": "display_data"
    }
   ],
   "source": [
    "#plotting the training and validation accuracy\n",
    "plt.plot(range(num_epochs), train_accs, label='Train')\n",
    "plt.plot(range(num_epochs), val_accs, label='Validation')\n",
    "plt.xlabel('Epoch')\n",
    "plt.ylabel('Accuracy')\n",
    "plt.legend()\n",
    "plt.show()"
   ]
  },
  {
   "cell_type": "code",
   "execution_count": null,
   "id": "7912f671",
   "metadata": {},
   "outputs": [],
   "source": []
  }
 ],
 "metadata": {
  "kernelspec": {
   "display_name": "Python 3 (ipykernel)",
   "language": "python",
   "name": "python3"
  },
  "language_info": {
   "codemirror_mode": {
    "name": "ipython",
    "version": 3
   },
   "file_extension": ".py",
   "mimetype": "text/x-python",
   "name": "python",
   "nbconvert_exporter": "python",
   "pygments_lexer": "ipython3",
   "version": "3.10.9"
  }
 },
 "nbformat": 4,
 "nbformat_minor": 5
}
